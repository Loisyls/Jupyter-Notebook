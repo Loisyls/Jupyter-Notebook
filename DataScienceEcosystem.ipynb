{
 "cells": [
  {
   "cell_type": "markdown",
   "id": "ff2b3a3c-3aa4-41d8-ad8c-d25c7e58c023",
   "metadata": {},
   "source": [
    "# Data Science Tools and Ecosystem"
   ]
  },
  {
   "cell_type": "markdown",
   "id": "ab852e33-88e8-4cc2-a7c0-87b62dfedc68",
   "metadata": {},
   "source": [
    "# In this notebook, Data Science Tools and Ecosystem are summarized."
   ]
  },
  {
   "cell_type": "markdown",
   "id": "e10788d3-b4eb-4412-916a-f6138a958091",
   "metadata": {},
   "source": [
    "# Some of the popular languages that Data Scientists use are:\n",
    "\n",
    "1. C++\n",
    "2. Python\n",
    "3. Jupyter Notebook\n",
    "4. Java"
   ]
  },
  {
   "cell_type": "markdown",
   "id": "308aadc9-5924-486f-9e2a-e66f0709b043",
   "metadata": {},
   "source": [
    "# Some of the commonly used libraries used by Data Scientists include:\n",
    "\n",
    "1. NumPy\n",
    "2. Matplotlib\n",
    "3. Pandas\n",
    "4. PyTorch"
   ]
  },
  {
   "cell_type": "markdown",
   "id": "0cac71d7-b127-4d37-ae78-25bb67e941d2",
   "metadata": {},
   "source": [
    "# Data Science Tools\n",
    "\n",
    "1. RStudio\n",
    "2. Apache Spark\n",
    "3. TensorFlow"
   ]
  },
  {
   "cell_type": "markdown",
   "id": "24400bb3-486f-4472-a86b-6c1328d9d728",
   "metadata": {},
   "source": [
    "### Below are a few examples of evaluating arithmetic expressions in Python."
   ]
  },
  {
   "cell_type": "code",
   "execution_count": 7,
   "id": "a0cf0eee-f006-4142-97ed-ee99b7e7bcdd",
   "metadata": {},
   "outputs": [
    {
     "data": {
      "text/plain": [
       "17"
      ]
     },
     "execution_count": 7,
     "metadata": {},
     "output_type": "execute_result"
    }
   ],
   "source": [
    "# This a simple arithmetic expression to mutiply then add integers\n",
    "(3*4)+5"
   ]
  },
  {
   "cell_type": "code",
   "execution_count": 8,
   "id": "c0f38331-2684-4dff-8baf-f588ae78dea7",
   "metadata": {},
   "outputs": [
    {
     "data": {
      "text/plain": [
       "3.3333333333333335"
      ]
     },
     "execution_count": 8,
     "metadata": {},
     "output_type": "execute_result"
    }
   ],
   "source": [
    "# This will convert 200 minutes to hours by diving by 60\n",
    "200 / 60"
   ]
  },
  {
   "cell_type": "markdown",
   "id": "15de1902-2d85-4f41-b02c-e2665faf1d47",
   "metadata": {},
   "source": [
    "# **Objectives:**\n",
    "\n",
    "- List popular languages for Data Science\n",
    "- List commonly used liararies used by Data Scientist\n",
    "- List Data Science Tools\n"
   ]
  },
  {
   "cell_type": "markdown",
   "id": "09dc2240-60bd-49de-bdf1-4afdb97e2a01",
   "metadata": {},
   "source": [
    "## Author\n",
    "   Lushuai Yan"
   ]
  }
 ],
 "metadata": {
  "kernelspec": {
   "display_name": "Python [conda env:base] *",
   "language": "python",
   "name": "conda-base-py"
  },
  "language_info": {
   "codemirror_mode": {
    "name": "ipython",
    "version": 3
   },
   "file_extension": ".py",
   "mimetype": "text/x-python",
   "name": "python",
   "nbconvert_exporter": "python",
   "pygments_lexer": "ipython3",
   "version": "3.12.7"
  }
 },
 "nbformat": 4,
 "nbformat_minor": 5
}
